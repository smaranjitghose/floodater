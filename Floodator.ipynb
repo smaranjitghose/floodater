{
  "nbformat": 4,
  "nbformat_minor": 0,
  "metadata": {
    "colab": {
      "name": "Floodator",
      "provenance": [],
      "collapsed_sections": [],
      "authorship_tag": "ABX9TyPEyzn5wzPxKgHqXkmsGHnT",
      "include_colab_link": true
    },
    "kernelspec": {
      "name": "python3",
      "display_name": "Python 3"
    }
  },
  "cells": [
    {
      "cell_type": "markdown",
      "metadata": {
        "id": "view-in-github",
        "colab_type": "text"
      },
      "source": [
        "<a href=\"https://colab.research.google.com/github/smaranjitghose/floodater/blob/master/Floodator.ipynb\" target=\"_parent\"><img src=\"https://colab.research.google.com/assets/colab-badge.svg\" alt=\"Open In Colab\"/></a>"
      ]
    },
    {
      "cell_type": "markdown",
      "metadata": {
        "id": "KPJn34vRacrq",
        "colab_type": "text"
      },
      "source": [
        " ## Importing the dependencies\n"
      ]
    },
    {
      "cell_type": "code",
      "metadata": {
        "id": "hPJPgIEbaQRC",
        "colab_type": "code",
        "colab": {}
      },
      "source": [
        "import numpy as np\n",
        "import pandas as pd\n",
        "import matplotlib.pyplot as plt\n",
        "%matplotlib inline\n",
        "import seaborn as sns\n",
        "from sklearn import preprocessing\n",
        "from sklearn import model_selection,neighbors\n",
        "from sklearn.neighbors import KNeighborsClassifier\n",
        "from sklearn.linear_model import LogisticRegression\n",
        "from sklearn.svm import SVC\n",
        "from sklearn.tree import DecisionTreeClassifier\n",
        "from sklearn.ensemble import RandomForestClassifier\n",
        "from sklearn.model_selection import train_test_split\n",
        "from sklearn.model_selection import cross_val_score,cross_val_predict\n",
        "from sklearn.metrics import accuracy_score,recall_score,roc_auc_score,confusion_matrix"
      ],
      "execution_count": 0,
      "outputs": []
    },
    {
      "cell_type": "markdown",
      "metadata": {
        "id": "lPBEpcLtaoql",
        "colab_type": "text"
      },
      "source": [
        "## Fetching our data"
      ]
    },
    {
      "cell_type": "code",
      "metadata": {
        "id": "SUkdgFyWafo_",
        "colab_type": "code",
        "colab": {}
      },
      "source": [
        "data = pd.read_csv('https://raw.githubusercontent.com/smaranjitghose/floodater/master/kerala_rainfall.csv')"
      ],
      "execution_count": 0,
      "outputs": []
    },
    {
      "cell_type": "code",
      "metadata": {
        "id": "-tgHflKqa-8J",
        "colab_type": "code",
        "outputId": "dd1cdecd-eb78-4daf-f670-d70079bbfba0",
        "colab": {
          "base_uri": "https://localhost:8080/",
          "height": 271
        }
      },
      "source": [
        "print(data)"
      ],
      "execution_count": 0,
      "outputs": [
        {
          "output_type": "stream",
          "text": [
            "    SUBDIVISION  YEAR   JAN   FEB  ...    NOV    DEC   ANNUAL RAINFALL  FLOODS\n",
            "0        KERALA  1901  28.7  44.7  ...  350.8   48.4            3248.6     YES\n",
            "1        KERALA  1902   6.7   2.6  ...  158.3  121.5            3326.6     YES\n",
            "2        KERALA  1903   3.2  18.6  ...  157.0   59.0            3271.2     YES\n",
            "3        KERALA  1904  23.7   3.0  ...   33.9    3.3            3129.7     YES\n",
            "4        KERALA  1905   1.2  22.3  ...   74.4    0.2            2741.6      NO\n",
            "..          ...   ...   ...   ...  ...    ...    ...               ...     ...\n",
            "113      KERALA  2014   4.6  10.3  ...   99.5   47.2            3046.4     YES\n",
            "114      KERALA  2015   3.1   5.8  ...  223.6   79.4            2600.6      NO\n",
            "115      KERALA  2016   2.4   3.8  ...  125.4   23.6            2176.6      NO\n",
            "116     KERALA   2017   1.9   6.8  ...   92.5   38.1            2117.1      NO\n",
            "117      KERALA  2018  29.1  52.1  ...  125.4   65.1            4473.0     YES\n",
            "\n",
            "[118 rows x 16 columns]\n"
          ],
          "name": "stdout"
        }
      ]
    },
    {
      "cell_type": "markdown",
      "metadata": {
        "id": "jqipwm31bqGg",
        "colab_type": "text"
      },
      "source": [
        "## Some minor tweaking"
      ]
    },
    {
      "cell_type": "code",
      "metadata": {
        "id": "HCvyD84_bLnx",
        "colab_type": "code",
        "colab": {}
      },
      "source": [
        "data['FLOODS'].replace(['YES','NO'],[1,0],inplace=True)"
      ],
      "execution_count": 0,
      "outputs": []
    },
    {
      "cell_type": "code",
      "metadata": {
        "id": "QYMe0KBXbuP9",
        "colab_type": "code",
        "outputId": "b1c68c6c-8888-4841-8456-e9efc75b705c",
        "colab": {
          "base_uri": "https://localhost:8080/",
          "height": 271
        }
      },
      "source": [
        "print(data)"
      ],
      "execution_count": 0,
      "outputs": [
        {
          "output_type": "stream",
          "text": [
            "    SUBDIVISION  YEAR   JAN   FEB  ...    NOV    DEC   ANNUAL RAINFALL  FLOODS\n",
            "0        KERALA  1901  28.7  44.7  ...  350.8   48.4            3248.6       1\n",
            "1        KERALA  1902   6.7   2.6  ...  158.3  121.5            3326.6       1\n",
            "2        KERALA  1903   3.2  18.6  ...  157.0   59.0            3271.2       1\n",
            "3        KERALA  1904  23.7   3.0  ...   33.9    3.3            3129.7       1\n",
            "4        KERALA  1905   1.2  22.3  ...   74.4    0.2            2741.6       0\n",
            "..          ...   ...   ...   ...  ...    ...    ...               ...     ...\n",
            "113      KERALA  2014   4.6  10.3  ...   99.5   47.2            3046.4       1\n",
            "114      KERALA  2015   3.1   5.8  ...  223.6   79.4            2600.6       0\n",
            "115      KERALA  2016   2.4   3.8  ...  125.4   23.6            2176.6       0\n",
            "116     KERALA   2017   1.9   6.8  ...   92.5   38.1            2117.1       0\n",
            "117      KERALA  2018  29.1  52.1  ...  125.4   65.1            4473.0       1\n",
            "\n",
            "[118 rows x 16 columns]\n"
          ],
          "name": "stdout"
        }
      ]
    },
    {
      "cell_type": "markdown",
      "metadata": {
        "id": "TGV1FiiRcE38",
        "colab_type": "text"
      },
      "source": [
        "Separating the rainfalls for every month and the outcome"
      ]
    },
    {
      "cell_type": "code",
      "metadata": {
        "id": "POLJrpV3bzWD",
        "colab_type": "code",
        "outputId": "696f933b-ba00-4cd9-cb8f-6c106dac6a0d",
        "colab": {
          "base_uri": "https://localhost:8080/",
          "height": 271
        }
      },
      "source": [
        "x=data.iloc[:,1:14]\n",
        "print(x)"
      ],
      "execution_count": 0,
      "outputs": [
        {
          "output_type": "stream",
          "text": [
            "     YEAR   JAN   FEB   MAR    APR  ...     AUG    SEP    OCT    NOV    DEC\n",
            "0    1901  28.7  44.7  51.6  160.0  ...   357.5  197.7  266.9  350.8   48.4\n",
            "1    1902   6.7   2.6  57.3   83.9  ...   315.8  491.6  358.4  158.3  121.5\n",
            "2    1903   3.2  18.6   3.1   83.6  ...   420.2  341.8  354.1  157.0   59.0\n",
            "3    1904  23.7   3.0  32.2   71.5  ...   351.8  222.7  328.1   33.9    3.3\n",
            "4    1905   1.2  22.3   9.4  105.9  ...   293.6  217.2  383.5   74.4    0.2\n",
            "..    ...   ...   ...   ...    ...  ...     ...    ...    ...    ...    ...\n",
            "113  2014   4.6  10.3  17.9   95.7  ...   733.9  298.8  355.5   99.5   47.2\n",
            "114  2015   3.1   5.8  50.1  214.1  ...   252.2  292.9  308.1  223.6   79.4\n",
            "115  2016   2.4   3.8  35.9  143.0  ...   325.5  173.2  225.9  125.4   23.6\n",
            "116  2017   1.9   6.8   8.9   43.6  ...   531.8  209.5  192.4   92.5   38.1\n",
            "117  2018  29.1  52.1  48.6  116.4  ...  1398.9  423.6  356.1  125.4   65.1\n",
            "\n",
            "[118 rows x 13 columns]\n"
          ],
          "name": "stdout"
        }
      ]
    },
    {
      "cell_type": "code",
      "metadata": {
        "id": "_zPJ_WLBb6If",
        "colab_type": "code",
        "outputId": "d09e5f1e-328c-45bc-8cd4-11e08199d681",
        "colab": {
          "base_uri": "https://localhost:8080/",
          "height": 235
        }
      },
      "source": [
        "y=data.iloc[:,-1]\n",
        "print(y)"
      ],
      "execution_count": 0,
      "outputs": [
        {
          "output_type": "stream",
          "text": [
            "0      1\n",
            "1      1\n",
            "2      1\n",
            "3      1\n",
            "4      0\n",
            "      ..\n",
            "113    1\n",
            "114    0\n",
            "115    0\n",
            "116    0\n",
            "117    1\n",
            "Name: FLOODS, Length: 118, dtype: int64\n"
          ],
          "name": "stdout"
        }
      ]
    },
    {
      "cell_type": "markdown",
      "metadata": {
        "id": "isHwx1jociBu",
        "colab_type": "text"
      },
      "source": [
        "# Time to build our predictors"
      ]
    },
    {
      "cell_type": "code",
      "metadata": {
        "id": "ddSz7DOecQhs",
        "colab_type": "code",
        "outputId": "e8a5e6be-4ac8-4f22-f6ee-f34e837f70f8",
        "colab": {
          "base_uri": "https://localhost:8080/",
          "height": 253
        }
      },
      "source": [
        "minmax=preprocessing.MinMaxScaler(feature_range=(0,1))\n",
        "minmax.fit(x).transform(x)"
      ],
      "execution_count": 0,
      "outputs": [
        {
          "output_type": "execute_result",
          "data": {
            "text/plain": [
              "array([[0.        , 0.34371257, 0.56582278, ..., 0.39727673, 0.95570189,\n",
              "        0.2388724 ],\n",
              "       [0.00854701, 0.08023952, 0.03291139, ..., 0.5804966 , 0.37952709,\n",
              "        0.60039565],\n",
              "       [0.01709402, 0.03832335, 0.23544304, ..., 0.57188626, 0.37563604,\n",
              "        0.29129575],\n",
              "       ...,\n",
              "       [0.98290598, 0.02874251, 0.04810127, ..., 0.31517821, 0.28105358,\n",
              "        0.11622156],\n",
              "       [0.99145299, 0.02275449, 0.08607595, ..., 0.24809772, 0.18258007,\n",
              "        0.18793274],\n",
              "       [1.        , 0.34850299, 0.65949367, ..., 0.57589107, 0.28105358,\n",
              "        0.3214639 ]])"
            ]
          },
          "metadata": {
            "tags": []
          },
          "execution_count": 44
        }
      ]
    },
    {
      "cell_type": "code",
      "metadata": {
        "id": "14lI2wTNc2yJ",
        "colab_type": "code",
        "colab": {}
      },
      "source": [
        "x_train,x_test,y_train,y_test=train_test_split(x,y,test_size=0.2)"
      ],
      "execution_count": 0,
      "outputs": []
    },
    {
      "cell_type": "markdown",
      "metadata": {
        "id": "2KdyKH2tdUGU",
        "colab_type": "text"
      },
      "source": [
        "### Lets use K-Neareast Neighbours\n"
      ]
    },
    {
      "cell_type": "code",
      "metadata": {
        "id": "con8MwfNdZP4",
        "colab_type": "code",
        "outputId": "de61a2a8-a361-477b-acc4-ac981fe2869f",
        "colab": {
          "base_uri": "https://localhost:8080/",
          "height": 72
        }
      },
      "source": [
        "clf=neighbors.KNeighborsClassifier()\n",
        "clf.fit(x_train,y_train)"
      ],
      "execution_count": 0,
      "outputs": [
        {
          "output_type": "execute_result",
          "data": {
            "text/plain": [
              "KNeighborsClassifier(algorithm='auto', leaf_size=30, metric='minkowski',\n",
              "                     metric_params=None, n_jobs=None, n_neighbors=5, p=2,\n",
              "                     weights='uniform')"
            ]
          },
          "metadata": {
            "tags": []
          },
          "execution_count": 46
        }
      ]
    },
    {
      "cell_type": "code",
      "metadata": {
        "id": "R5NnhF3qdZtQ",
        "colab_type": "code",
        "outputId": "cf48654e-3dd1-47e3-9b2a-63d94036cfa6",
        "colab": {
          "base_uri": "https://localhost:8080/",
          "height": 53
        }
      },
      "source": [
        "y_predict=clf.predict(x_test)\n",
        "y_predict"
      ],
      "execution_count": 0,
      "outputs": [
        {
          "output_type": "execute_result",
          "data": {
            "text/plain": [
              "array([0, 1, 1, 1, 1, 1, 0, 0, 1, 0, 1, 1, 0, 0, 0, 0, 0, 1, 0, 1, 1, 0,\n",
              "       0, 0])"
            ]
          },
          "metadata": {
            "tags": []
          },
          "execution_count": 47
        }
      ]
    },
    {
      "cell_type": "code",
      "metadata": {
        "id": "uuCdR5lNdekN",
        "colab_type": "code",
        "colab": {}
      },
      "source": [
        "x_train_std=minmax.fit_transform(x_train)\n",
        "x_test_std=minmax.fit_transform(x_test)\n",
        "knn_acc=cross_val_score(clf,x_train_std,y_train,cv=3,scoring='accuracy',n_jobs=-1)\n",
        "knn_proba=cross_val_predict(clf,x_train_std,y_train,cv=3,method='predict_proba')"
      ],
      "execution_count": 0,
      "outputs": []
    },
    {
      "cell_type": "code",
      "metadata": {
        "id": "mHk2cfdRdh9P",
        "colab_type": "code",
        "outputId": "dee20bec-8ca5-4a37-885c-54b154b3e877",
        "colab": {
          "base_uri": "https://localhost:8080/",
          "height": 35
        }
      },
      "source": [
        "print(knn_acc)"
      ],
      "execution_count": 0,
      "outputs": [
        {
          "output_type": "stream",
          "text": [
            "[0.8125     0.64516129 0.77419355]\n"
          ],
          "name": "stdout"
        }
      ]
    },
    {
      "cell_type": "code",
      "metadata": {
        "id": "DI1wUcEqdm1g",
        "colab_type": "code",
        "outputId": "1c7b5b99-90dd-4036-a47b-f066d8ada407",
        "colab": {
          "base_uri": "https://localhost:8080/",
          "height": 1000
        }
      },
      "source": [
        "print(knn_proba)"
      ],
      "execution_count": 0,
      "outputs": [
        {
          "output_type": "stream",
          "text": [
            "[[1.  0. ]\n",
            " [0.6 0.4]\n",
            " [0.4 0.6]\n",
            " [0.6 0.4]\n",
            " [0.2 0.8]\n",
            " [0.2 0.8]\n",
            " [0.8 0.2]\n",
            " [0.8 0.2]\n",
            " [0.4 0.6]\n",
            " [0.6 0.4]\n",
            " [0.2 0.8]\n",
            " [0.8 0.2]\n",
            " [1.  0. ]\n",
            " [0.8 0.2]\n",
            " [1.  0. ]\n",
            " [0.6 0.4]\n",
            " [0.8 0.2]\n",
            " [0.4 0.6]\n",
            " [0.2 0.8]\n",
            " [0.6 0.4]\n",
            " [0.4 0.6]\n",
            " [0.4 0.6]\n",
            " [0.8 0.2]\n",
            " [0.6 0.4]\n",
            " [0.  1. ]\n",
            " [0.4 0.6]\n",
            " [1.  0. ]\n",
            " [0.8 0.2]\n",
            " [0.6 0.4]\n",
            " [0.4 0.6]\n",
            " [1.  0. ]\n",
            " [0.2 0.8]\n",
            " [0.4 0.6]\n",
            " [0.8 0.2]\n",
            " [0.8 0.2]\n",
            " [1.  0. ]\n",
            " [0.6 0.4]\n",
            " [0.8 0.2]\n",
            " [0.6 0.4]\n",
            " [0.4 0.6]\n",
            " [1.  0. ]\n",
            " [0.6 0.4]\n",
            " [0.2 0.8]\n",
            " [0.2 0.8]\n",
            " [0.8 0.2]\n",
            " [0.6 0.4]\n",
            " [0.2 0.8]\n",
            " [0.6 0.4]\n",
            " [1.  0. ]\n",
            " [0.8 0.2]\n",
            " [0.8 0.2]\n",
            " [0.4 0.6]\n",
            " [0.4 0.6]\n",
            " [0.4 0.6]\n",
            " [0.6 0.4]\n",
            " [0.2 0.8]\n",
            " [1.  0. ]\n",
            " [0.6 0.4]\n",
            " [0.2 0.8]\n",
            " [0.4 0.6]\n",
            " [0.8 0.2]\n",
            " [0.6 0.4]\n",
            " [0.8 0.2]\n",
            " [0.2 0.8]\n",
            " [0.8 0.2]\n",
            " [0.8 0.2]\n",
            " [0.8 0.2]\n",
            " [0.6 0.4]\n",
            " [0.4 0.6]\n",
            " [0.8 0.2]\n",
            " [0.6 0.4]\n",
            " [0.6 0.4]\n",
            " [0.8 0.2]\n",
            " [0.4 0.6]\n",
            " [0.6 0.4]\n",
            " [0.4 0.6]\n",
            " [1.  0. ]\n",
            " [0.4 0.6]\n",
            " [0.  1. ]\n",
            " [0.4 0.6]\n",
            " [0.4 0.6]\n",
            " [0.6 0.4]\n",
            " [0.4 0.6]\n",
            " [0.  1. ]\n",
            " [0.6 0.4]\n",
            " [0.6 0.4]\n",
            " [0.6 0.4]\n",
            " [0.6 0.4]\n",
            " [0.6 0.4]\n",
            " [1.  0. ]\n",
            " [0.4 0.6]\n",
            " [0.2 0.8]\n",
            " [0.8 0.2]\n",
            " [0.4 0.6]]\n"
          ],
          "name": "stdout"
        }
      ]
    },
    {
      "cell_type": "code",
      "metadata": {
        "id": "GGzYdIUfeH5w",
        "colab_type": "code",
        "outputId": "90065511-0b98-4098-d77d-28cd8320a598",
        "colab": {
          "base_uri": "https://localhost:8080/",
          "height": 108
        }
      },
      "source": [
        "print(\"Accuracy Score:%f\"%(accuracy_score(y_test,y_predict)*100))\n",
        "print(\"Recall Score:%f\"%(recall_score(y_test,y_predict)*100))\n",
        "print(\"ROC score:%f\"%(roc_auc_score(y_test,y_predict)*100))\n",
        "print(confusion_matrix(y_test,y_predict))"
      ],
      "execution_count": 0,
      "outputs": [
        {
          "output_type": "stream",
          "text": [
            "Accuracy Score:83.333333\n",
            "Recall Score:73.333333\n",
            "ROC score:86.666667\n",
            "[[ 9  0]\n",
            " [ 4 11]]\n"
          ],
          "name": "stdout"
        }
      ]
    },
    {
      "cell_type": "markdown",
      "metadata": {
        "id": "ZmIEjyNseiFa",
        "colab_type": "text"
      },
      "source": [
        "## Now Lets Apply Logistic Regression"
      ]
    },
    {
      "cell_type": "code",
      "metadata": {
        "id": "B9E6JKdBeW1P",
        "colab_type": "code",
        "colab": {}
      },
      "source": [
        "x_train_std=minmax.fit_transform(x_train)#It is used to fit the values in between 0 and 1\n",
        "y_train_std=minmax.transform(x_test)"
      ],
      "execution_count": 0,
      "outputs": []
    },
    {
      "cell_type": "code",
      "metadata": {
        "id": "bJcnRG1gevEt",
        "colab_type": "code",
        "outputId": "e6b90d37-21b0-4951-ea7e-948eed7cf52f",
        "colab": {
          "base_uri": "https://localhost:8080/",
          "height": 162
        }
      },
      "source": [
        "lr=LogisticRegression()\n",
        "lr.fit(x_train,y_train)\n",
        "lr_acc=cross_val_score(lr,x_train_std,y_train,cv=3,scoring='accuracy',n_jobs=-1)\n",
        "lr_proba=cross_val_predict(lr,x_train_std,y_train,cv=3,method='predict_proba')"
      ],
      "execution_count": 0,
      "outputs": [
        {
          "output_type": "stream",
          "text": [
            "/usr/local/lib/python3.6/dist-packages/sklearn/linear_model/_logistic.py:940: ConvergenceWarning: lbfgs failed to converge (status=1):\n",
            "STOP: TOTAL NO. of ITERATIONS REACHED LIMIT.\n",
            "\n",
            "Increase the number of iterations (max_iter) or scale the data as shown in:\n",
            "    https://scikit-learn.org/stable/modules/preprocessing.html\n",
            "Please also refer to the documentation for alternative solver options:\n",
            "    https://scikit-learn.org/stable/modules/linear_model.html#logistic-regression\n",
            "  extra_warning_msg=_LOGISTIC_SOLVER_CONVERGENCE_MSG)\n"
          ],
          "name": "stderr"
        }
      ]
    },
    {
      "cell_type": "code",
      "metadata": {
        "id": "0xrIz-ixgTwX",
        "colab_type": "code",
        "outputId": "b4bb6540-8b48-4b82-bdb7-38f550127a30",
        "colab": {
          "base_uri": "https://localhost:8080/",
          "height": 35
        }
      },
      "source": [
        "y_pred=lr.predict(x_test)\n",
        "print(y_pred)"
      ],
      "execution_count": 0,
      "outputs": [
        {
          "output_type": "stream",
          "text": [
            "[0 1 1 1 1 1 1 0 1 0 1 1 1 0 0 0 0 1 0 1 1 1 0 0]\n"
          ],
          "name": "stdout"
        }
      ]
    },
    {
      "cell_type": "code",
      "metadata": {
        "id": "VaG8GKJ_fPwx",
        "colab_type": "code",
        "outputId": "cfef9377-1195-4a1c-9743-c7a4904351ee",
        "colab": {
          "base_uri": "https://localhost:8080/",
          "height": 35
        }
      },
      "source": [
        "lr_acc"
      ],
      "execution_count": 0,
      "outputs": [
        {
          "output_type": "execute_result",
          "data": {
            "text/plain": [
              "array([0.8125    , 0.80645161, 0.83870968])"
            ]
          },
          "metadata": {
            "tags": []
          },
          "execution_count": 54
        }
      ]
    },
    {
      "cell_type": "code",
      "metadata": {
        "id": "vEM5p-G8fQbc",
        "colab_type": "code",
        "outputId": "ab2f5d11-9667-4e3b-dcd9-85e0348e0918",
        "colab": {
          "base_uri": "https://localhost:8080/",
          "height": 1000
        }
      },
      "source": [
        "lr_proba"
      ],
      "execution_count": 0,
      "outputs": [
        {
          "output_type": "execute_result",
          "data": {
            "text/plain": [
              "array([[0.81941733, 0.18058267],\n",
              "       [0.33759103, 0.66240897],\n",
              "       [0.48934299, 0.51065701],\n",
              "       [0.65206482, 0.34793518],\n",
              "       [0.63390433, 0.36609567],\n",
              "       [0.38872712, 0.61127288],\n",
              "       [0.73155029, 0.26844971],\n",
              "       [0.5286416 , 0.4713584 ],\n",
              "       [0.4180448 , 0.5819552 ],\n",
              "       [0.42212335, 0.57787665],\n",
              "       [0.35676944, 0.64323056],\n",
              "       [0.7431884 , 0.2568116 ],\n",
              "       [0.79672695, 0.20327305],\n",
              "       [0.68899969, 0.31100031],\n",
              "       [0.6940887 , 0.3059113 ],\n",
              "       [0.51226874, 0.48773126],\n",
              "       [0.81704393, 0.18295607],\n",
              "       [0.34990433, 0.65009567],\n",
              "       [0.3819831 , 0.6180169 ],\n",
              "       [0.43193808, 0.56806192],\n",
              "       [0.51141241, 0.48858759],\n",
              "       [0.44443602, 0.55556398],\n",
              "       [0.71004519, 0.28995481],\n",
              "       [0.59131051, 0.40868949],\n",
              "       [0.23631088, 0.76368912],\n",
              "       [0.5180902 , 0.4819098 ],\n",
              "       [0.65075043, 0.34924957],\n",
              "       [0.63316023, 0.36683977],\n",
              "       [0.66916844, 0.33083156],\n",
              "       [0.60225601, 0.39774399],\n",
              "       [0.69439542, 0.30560458],\n",
              "       [0.24223661, 0.75776339],\n",
              "       [0.60569427, 0.39430573],\n",
              "       [0.67433854, 0.32566146],\n",
              "       [0.76071957, 0.23928043],\n",
              "       [0.77098203, 0.22901797],\n",
              "       [0.53785647, 0.46214353],\n",
              "       [0.63941539, 0.36058461],\n",
              "       [0.56294942, 0.43705058],\n",
              "       [0.36903244, 0.63096756],\n",
              "       [0.77830686, 0.22169314],\n",
              "       [0.38402914, 0.61597086],\n",
              "       [0.63834668, 0.36165332],\n",
              "       [0.35302988, 0.64697012],\n",
              "       [0.57949432, 0.42050568],\n",
              "       [0.41681646, 0.58318354],\n",
              "       [0.30332032, 0.69667968],\n",
              "       [0.66912121, 0.33087879],\n",
              "       [0.67877077, 0.32122923],\n",
              "       [0.55127373, 0.44872627],\n",
              "       [0.47612663, 0.52387337],\n",
              "       [0.44249588, 0.55750412],\n",
              "       [0.59764518, 0.40235482],\n",
              "       [0.3436007 , 0.6563993 ],\n",
              "       [0.42393356, 0.57606644],\n",
              "       [0.48375417, 0.51624583],\n",
              "       [0.82547638, 0.17452362],\n",
              "       [0.55037378, 0.44962622],\n",
              "       [0.26369581, 0.73630419],\n",
              "       [0.30645341, 0.69354659],\n",
              "       [0.58931684, 0.41068316],\n",
              "       [0.62381863, 0.37618137],\n",
              "       [0.69858984, 0.30141016],\n",
              "       [0.501018  , 0.498982  ],\n",
              "       [0.55542886, 0.44457114],\n",
              "       [0.52126507, 0.47873493],\n",
              "       [0.78370482, 0.21629518],\n",
              "       [0.42638942, 0.57361058],\n",
              "       [0.38338078, 0.61661922],\n",
              "       [0.54474886, 0.45525114],\n",
              "       [0.55136552, 0.44863448],\n",
              "       [0.67031614, 0.32968386],\n",
              "       [0.42220243, 0.57779757],\n",
              "       [0.53645841, 0.46354159],\n",
              "       [0.51929746, 0.48070254],\n",
              "       [0.52148595, 0.47851405],\n",
              "       [0.5084377 , 0.4915623 ],\n",
              "       [0.53635465, 0.46364535],\n",
              "       [0.14050744, 0.85949256],\n",
              "       [0.24361634, 0.75638366],\n",
              "       [0.43433419, 0.56566581],\n",
              "       [0.44319908, 0.55680092],\n",
              "       [0.3842529 , 0.6157471 ],\n",
              "       [0.10357973, 0.89642027],\n",
              "       [0.46629068, 0.53370932],\n",
              "       [0.40318559, 0.59681441],\n",
              "       [0.41559401, 0.58440599],\n",
              "       [0.66367122, 0.33632878],\n",
              "       [0.47165377, 0.52834623],\n",
              "       [0.80346113, 0.19653887],\n",
              "       [0.4484637 , 0.5515363 ],\n",
              "       [0.19732562, 0.80267438],\n",
              "       [0.62077083, 0.37922917],\n",
              "       [0.49768805, 0.50231195]])"
            ]
          },
          "metadata": {
            "tags": []
          },
          "execution_count": 55
        }
      ]
    },
    {
      "cell_type": "code",
      "metadata": {
        "id": "ZECAwh5VfTAx",
        "colab_type": "code",
        "outputId": "f0364d53-0d4a-4fb2-c21a-5c2a22bd2c63",
        "colab": {
          "base_uri": "https://localhost:8080/",
          "height": 108
        }
      },
      "source": [
        "print(\"Accuracy score:%f\"%(accuracy_score(y_test,y_pred)*100))\n",
        "print(\"recall score:%f\"%(recall_score(y_test,y_pred)*100))\n",
        "print(\"roc score:%f\"%(roc_auc_score(y_test,y_pred)*100))\n",
        "print(confusion_matrix(y_test,y_pred))"
      ],
      "execution_count": 0,
      "outputs": [
        {
          "output_type": "stream",
          "text": [
            "Accuracy score:95.833333\n",
            "recall score:93.333333\n",
            "roc score:96.666667\n",
            "[[ 9  0]\n",
            " [ 1 14]]\n"
          ],
          "name": "stdout"
        }
      ]
    },
    {
      "cell_type": "markdown",
      "metadata": {
        "id": "ku8WBRRWfeE6",
        "colab_type": "text"
      },
      "source": [
        "#### Now Lets apply SVM"
      ]
    },
    {
      "cell_type": "code",
      "metadata": {
        "id": "56kqtZ4MfbmJ",
        "colab_type": "code",
        "colab": {}
      },
      "source": [
        "svc=SVC(kernel='rbf',probability=True)\n",
        "svc_classifier=svc.fit(x_train,y_train)\n",
        "svc_acc=cross_val_score(svc_classifier,x_train_std,y_train,cv=3,scoring=\"accuracy\",n_jobs=-1)\n",
        "svc_proba=cross_val_predict(svc_classifier,x_train_std,y_train,cv=3,method='predict_proba')"
      ],
      "execution_count": 0,
      "outputs": []
    },
    {
      "cell_type": "code",
      "metadata": {
        "id": "oqGTrk6ogcV-",
        "colab_type": "code",
        "outputId": "11682687-57f4-4dbe-ba1f-676db2e366c2",
        "colab": {
          "base_uri": "https://localhost:8080/",
          "height": 35
        }
      },
      "source": [
        "svc_acc"
      ],
      "execution_count": 0,
      "outputs": [
        {
          "output_type": "execute_result",
          "data": {
            "text/plain": [
              "array([0.875     , 0.90322581, 0.80645161])"
            ]
          },
          "metadata": {
            "tags": []
          },
          "execution_count": 60
        }
      ]
    },
    {
      "cell_type": "code",
      "metadata": {
        "id": "kpSYabKkggia",
        "colab_type": "code",
        "outputId": "5cbd8178-02ef-4fde-b2bc-39e0db992bcd",
        "colab": {
          "base_uri": "https://localhost:8080/",
          "height": 1000
        }
      },
      "source": [
        "svc_proba"
      ],
      "execution_count": 0,
      "outputs": [
        {
          "output_type": "execute_result",
          "data": {
            "text/plain": [
              "array([[9.82636325e-01, 1.73636753e-02],\n",
              "       [2.33429307e-01, 7.66570693e-01],\n",
              "       [4.53801885e-01, 5.46198115e-01],\n",
              "       [8.25021779e-01, 1.74978221e-01],\n",
              "       [4.57704910e-01, 5.42295090e-01],\n",
              "       [1.20096822e-01, 8.79903178e-01],\n",
              "       [8.96127913e-01, 1.03872087e-01],\n",
              "       [2.92882313e-01, 7.07117687e-01],\n",
              "       [3.39025693e-01, 6.60974307e-01],\n",
              "       [2.47316576e-01, 7.52683424e-01],\n",
              "       [7.25689217e-02, 9.27431078e-01],\n",
              "       [8.52499094e-01, 1.47500906e-01],\n",
              "       [9.75393820e-01, 2.46061795e-02],\n",
              "       [8.98513028e-01, 1.01486972e-01],\n",
              "       [9.32827914e-01, 6.71720865e-02],\n",
              "       [5.36034854e-01, 4.63965146e-01],\n",
              "       [9.73811178e-01, 2.61888223e-02],\n",
              "       [8.06457477e-02, 9.19354252e-01],\n",
              "       [1.34554991e-01, 8.65445009e-01],\n",
              "       [1.60399525e-01, 8.39600475e-01],\n",
              "       [2.40162973e-01, 7.59837027e-01],\n",
              "       [2.08422963e-01, 7.91577037e-01],\n",
              "       [9.17276110e-01, 8.27238897e-02],\n",
              "       [5.86840921e-01, 4.13159079e-01],\n",
              "       [2.54298998e-02, 9.74570100e-01],\n",
              "       [3.54807854e-01, 6.45192146e-01],\n",
              "       [8.81360438e-01, 1.18639562e-01],\n",
              "       [8.36492348e-01, 1.63507652e-01],\n",
              "       [8.53530742e-01, 1.46469258e-01],\n",
              "       [8.48916535e-01, 1.51083465e-01],\n",
              "       [9.49893809e-01, 5.01061913e-02],\n",
              "       [1.36421193e-01, 8.63578807e-01],\n",
              "       [5.35185532e-01, 4.64814468e-01],\n",
              "       [9.55176440e-01, 4.48235596e-02],\n",
              "       [9.80485105e-01, 1.95148955e-02],\n",
              "       [9.78332656e-01, 2.16673438e-02],\n",
              "       [5.60468995e-01, 4.39531005e-01],\n",
              "       [8.56565891e-01, 1.43434109e-01],\n",
              "       [6.19097455e-01, 3.80902545e-01],\n",
              "       [5.35683030e-02, 9.46431697e-01],\n",
              "       [9.80508165e-01, 1.94918353e-02],\n",
              "       [2.55954296e-01, 7.44045704e-01],\n",
              "       [6.23300630e-01, 3.76699370e-01],\n",
              "       [3.01886203e-02, 9.69811380e-01],\n",
              "       [7.48418539e-01, 2.51581461e-01],\n",
              "       [3.22422234e-01, 6.77577766e-01],\n",
              "       [4.86876636e-02, 9.51312336e-01],\n",
              "       [8.79871618e-01, 1.20128382e-01],\n",
              "       [9.60199579e-01, 3.98004212e-02],\n",
              "       [8.34934563e-01, 1.65065437e-01],\n",
              "       [6.05306171e-01, 3.94693829e-01],\n",
              "       [2.53908968e-01, 7.46091032e-01],\n",
              "       [5.81709536e-01, 4.18290464e-01],\n",
              "       [7.14641708e-02, 9.28535829e-01],\n",
              "       [2.34973924e-01, 7.65026076e-01],\n",
              "       [5.81549882e-01, 4.18450118e-01],\n",
              "       [9.91863729e-01, 8.13627065e-03],\n",
              "       [6.47109051e-01, 3.52890949e-01],\n",
              "       [9.35571132e-02, 9.06442887e-01],\n",
              "       [5.19762341e-02, 9.48023766e-01],\n",
              "       [7.89852268e-01, 2.10147732e-01],\n",
              "       [9.00160206e-01, 9.98397943e-02],\n",
              "       [9.23186107e-01, 7.68138933e-02],\n",
              "       [3.25433726e-01, 6.74566274e-01],\n",
              "       [9.09599354e-01, 9.04006461e-02],\n",
              "       [8.27250314e-01, 1.72749686e-01],\n",
              "       [9.09930510e-01, 9.00694901e-02],\n",
              "       [3.85319448e-01, 6.14680552e-01],\n",
              "       [2.30822438e-01, 7.69177562e-01],\n",
              "       [9.20275276e-01, 7.97247238e-02],\n",
              "       [7.73645120e-01, 2.26354880e-01],\n",
              "       [9.76264957e-01, 2.37350431e-02],\n",
              "       [4.08812413e-01, 5.91187587e-01],\n",
              "       [5.21859060e-01, 4.78140940e-01],\n",
              "       [4.50712839e-01, 5.49287161e-01],\n",
              "       [4.07707221e-01, 5.92292779e-01],\n",
              "       [6.13896130e-01, 3.86103870e-01],\n",
              "       [6.21756300e-01, 3.78243700e-01],\n",
              "       [5.79088193e-06, 9.99994209e-01],\n",
              "       [1.14519939e-01, 8.85480061e-01],\n",
              "       [1.70348385e-01, 8.29651615e-01],\n",
              "       [6.57472084e-01, 3.42527916e-01],\n",
              "       [3.99153412e-02, 9.60084659e-01],\n",
              "       [1.22244287e-05, 9.99987776e-01],\n",
              "       [1.81165612e-01, 8.18834388e-01],\n",
              "       [1.61788821e-01, 8.38211179e-01],\n",
              "       [2.77297078e-01, 7.22702922e-01],\n",
              "       [9.56448500e-01, 4.35515004e-02],\n",
              "       [2.78030546e-01, 7.21969454e-01],\n",
              "       [9.98834246e-01, 1.16575391e-03],\n",
              "       [1.69519198e-01, 8.30480802e-01],\n",
              "       [1.45465086e-05, 9.99985453e-01],\n",
              "       [9.58323761e-01, 4.16762388e-02],\n",
              "       [4.24016113e-01, 5.75983887e-01]])"
            ]
          },
          "metadata": {
            "tags": []
          },
          "execution_count": 61
        }
      ]
    },
    {
      "cell_type": "code",
      "metadata": {
        "id": "bB5MM6OPgkkQ",
        "colab_type": "code",
        "outputId": "be8e222c-5d72-4003-a94c-32588b738f68",
        "colab": {
          "base_uri": "https://localhost:8080/",
          "height": 35
        }
      },
      "source": [
        "y_pred=svc_classifier.predict(x_test)\n",
        "print(y_pred)"
      ],
      "execution_count": 0,
      "outputs": [
        {
          "output_type": "stream",
          "text": [
            "[0 1 1 1 1 1 1 0 1 0 1 1 0 0 0 0 0 1 0 1 1 0 0 0]\n"
          ],
          "name": "stdout"
        }
      ]
    },
    {
      "cell_type": "code",
      "metadata": {
        "id": "R2o9gYZWgpwI",
        "colab_type": "code",
        "outputId": "5f6f16ad-e869-43f3-c093-999cf07d3051",
        "colab": {
          "base_uri": "https://localhost:8080/",
          "height": 126
        }
      },
      "source": [
        "print(\"\\naccuracy score:%f\"%(accuracy_score(y_test,y_pred)*100))\n",
        "print(\"recall score:%f\"%(recall_score(y_test,y_pred)*100))\n",
        "print(\"roc score:%f\"%(roc_auc_score(y_test,y_pred)*100))\n",
        "print(confusion_matrix(y_test,y_pred))"
      ],
      "execution_count": 0,
      "outputs": [
        {
          "output_type": "stream",
          "text": [
            "\n",
            "accuracy score:87.500000\n",
            "recall score:80.000000\n",
            "roc score:90.000000\n",
            "[[ 9  0]\n",
            " [ 3 12]]\n"
          ],
          "name": "stdout"
        }
      ]
    },
    {
      "cell_type": "markdown",
      "metadata": {
        "id": "GDKO6U1kgxMQ",
        "colab_type": "text"
      },
      "source": [
        "#### Now Lets Use Decision Trees"
      ]
    },
    {
      "cell_type": "code",
      "metadata": {
        "id": "2a6SQTDBgt2J",
        "colab_type": "code",
        "outputId": "b4dbf6d9-f2e0-44f5-d73e-cb1917a77eef",
        "colab": {
          "base_uri": "https://localhost:8080/",
          "height": 35
        }
      },
      "source": [
        "dtc_clf=DecisionTreeClassifier()\n",
        "dtc_clf.fit(x_train,y_train)\n",
        "dtc_clf_acc=cross_val_score(dtc_clf,x_train_std,y_train,cv=3,scoring=\"accuracy\",n_jobs=-1)\n",
        "dtc_clf_acc"
      ],
      "execution_count": 0,
      "outputs": [
        {
          "output_type": "execute_result",
          "data": {
            "text/plain": [
              "array([0.6875    , 0.70967742, 0.64516129])"
            ]
          },
          "metadata": {
            "tags": []
          },
          "execution_count": 65
        }
      ]
    },
    {
      "cell_type": "code",
      "metadata": {
        "id": "bVga6QjFg8gJ",
        "colab_type": "code",
        "outputId": "085fde2a-795a-4204-9584-8d88a19ad16f",
        "colab": {
          "base_uri": "https://localhost:8080/",
          "height": 35
        }
      },
      "source": [
        "y_pred=dtc_clf.predict(x_test)\n",
        "print(y_pred)"
      ],
      "execution_count": 0,
      "outputs": [
        {
          "output_type": "stream",
          "text": [
            "[0 1 1 1 1 1 0 1 1 0 1 1 0 0 0 1 0 1 0 0 0 1 0 0]\n"
          ],
          "name": "stdout"
        }
      ]
    },
    {
      "cell_type": "code",
      "metadata": {
        "id": "e9hHW_vUhCC4",
        "colab_type": "code",
        "outputId": "4b1c4016-cc5f-427e-aa61-59f8e87cd710",
        "colab": {
          "base_uri": "https://localhost:8080/",
          "height": 126
        }
      },
      "source": [
        "print(\"\\naccuracy score:%f\"%(accuracy_score(y_test,y_pred)*100))\n",
        "print(\"recall score:%f\"%(recall_score(y_test,y_pred)*100))\n",
        "print(\"roc score:%f\"%(roc_auc_score(y_test,y_pred)*100))\n",
        "print(confusion_matrix(y_test,y_pred))"
      ],
      "execution_count": 0,
      "outputs": [
        {
          "output_type": "stream",
          "text": [
            "\n",
            "accuracy score:79.166667\n",
            "recall score:73.333333\n",
            "roc score:81.111111\n",
            "[[ 8  1]\n",
            " [ 4 11]]\n"
          ],
          "name": "stdout"
        }
      ]
    },
    {
      "cell_type": "markdown",
      "metadata": {
        "id": "AgnkYYTnhGbZ",
        "colab_type": "text"
      },
      "source": [
        "#### Now lets use Random Forests"
      ]
    },
    {
      "cell_type": "code",
      "metadata": {
        "id": "LzlJdlpchFpZ",
        "colab_type": "code",
        "outputId": "94876db4-0f53-4797-a259-4bfb37deae87",
        "colab": {
          "base_uri": "https://localhost:8080/",
          "height": 162
        }
      },
      "source": [
        "rmf=RandomForestClassifier(max_depth=3,random_state=0)\n",
        "rmf_clf=rmf.fit(x_train,y_train)\n",
        "rmf_clf"
      ],
      "execution_count": 0,
      "outputs": [
        {
          "output_type": "execute_result",
          "data": {
            "text/plain": [
              "RandomForestClassifier(bootstrap=True, ccp_alpha=0.0, class_weight=None,\n",
              "                       criterion='gini', max_depth=3, max_features='auto',\n",
              "                       max_leaf_nodes=None, max_samples=None,\n",
              "                       min_impurity_decrease=0.0, min_impurity_split=None,\n",
              "                       min_samples_leaf=1, min_samples_split=2,\n",
              "                       min_weight_fraction_leaf=0.0, n_estimators=100,\n",
              "                       n_jobs=None, oob_score=False, random_state=0, verbose=0,\n",
              "                       warm_start=False)"
            ]
          },
          "metadata": {
            "tags": []
          },
          "execution_count": 70
        }
      ]
    },
    {
      "cell_type": "code",
      "metadata": {
        "id": "eXHRW9TZhLoU",
        "colab_type": "code",
        "outputId": "646c1ccf-517d-48d0-fdd7-a12d55ac30a2",
        "colab": {
          "base_uri": "https://localhost:8080/",
          "height": 35
        }
      },
      "source": [
        "rmf_acc=cross_val_score(rmf_clf,x_train_std,y_train,cv=3,scoring=\"accuracy\",n_jobs=-1)\n",
        "print(rmf_acc)"
      ],
      "execution_count": 0,
      "outputs": [
        {
          "output_type": "stream",
          "text": [
            "[0.71875    0.80645161 0.77419355]\n"
          ],
          "name": "stdout"
        }
      ]
    },
    {
      "cell_type": "code",
      "metadata": {
        "id": "PaGScmghho8w",
        "colab_type": "code",
        "outputId": "d77fa5b8-cd9c-4b9f-8ef0-eacfbe76b056",
        "colab": {
          "base_uri": "https://localhost:8080/",
          "height": 1000
        }
      },
      "source": [
        "rmf_proba=cross_val_predict(rmf_clf,x_train_std,y_train,cv=3,method='predict_proba')\n",
        "print(rmf_proba)"
      ],
      "execution_count": 0,
      "outputs": [
        {
          "output_type": "stream",
          "text": [
            "[[0.76529123 0.23470877]\n",
            " [0.61700988 0.38299012]\n",
            " [0.61341851 0.38658149]\n",
            " [0.75528828 0.24471172]\n",
            " [0.75631119 0.24368881]\n",
            " [0.35260772 0.64739228]\n",
            " [0.57533707 0.42466293]\n",
            " [0.49178679 0.50821321]\n",
            " [0.40465786 0.59534214]\n",
            " [0.48726499 0.51273501]\n",
            " [0.16764767 0.83235233]\n",
            " [0.45478082 0.54521918]\n",
            " [0.76730548 0.23269452]\n",
            " [0.73108061 0.26891939]\n",
            " [0.79641957 0.20358043]\n",
            " [0.59778336 0.40221664]\n",
            " [0.8567027  0.1432973 ]\n",
            " [0.51359496 0.48640504]\n",
            " [0.25768338 0.74231662]\n",
            " [0.39737176 0.60262824]\n",
            " [0.72031431 0.27968569]\n",
            " [0.46125218 0.53874782]\n",
            " [0.81615779 0.18384221]\n",
            " [0.5512797  0.4487203 ]\n",
            " [0.35526818 0.64473182]\n",
            " [0.49258176 0.50741824]\n",
            " [0.68555438 0.31444562]\n",
            " [0.47069742 0.52930258]\n",
            " [0.67598809 0.32401191]\n",
            " [0.62683968 0.37316032]\n",
            " [0.64792819 0.35207181]\n",
            " [0.14613784 0.85386216]\n",
            " [0.51949273 0.48050727]\n",
            " [0.70467084 0.29532916]\n",
            " [0.71653814 0.28346186]\n",
            " [0.71538411 0.28461589]\n",
            " [0.46541653 0.53458347]\n",
            " [0.64594321 0.35405679]\n",
            " [0.57065569 0.42934431]\n",
            " [0.32643262 0.67356738]\n",
            " [0.8636185  0.1363815 ]\n",
            " [0.34838033 0.65161967]\n",
            " [0.5473907  0.4526093 ]\n",
            " [0.27199505 0.72800495]\n",
            " [0.68060473 0.31939527]\n",
            " [0.47800678 0.52199322]\n",
            " [0.33614929 0.66385071]\n",
            " [0.81295365 0.18704635]\n",
            " [0.71750168 0.28249832]\n",
            " [0.68899859 0.31100141]\n",
            " [0.58108947 0.41891053]\n",
            " [0.43442854 0.56557146]\n",
            " [0.66012528 0.33987472]\n",
            " [0.3414589  0.6585411 ]\n",
            " [0.36842291 0.63157709]\n",
            " [0.47538922 0.52461078]\n",
            " [0.81170721 0.18829279]\n",
            " [0.6692296  0.3307704 ]\n",
            " [0.35405555 0.64594445]\n",
            " [0.25842686 0.74157314]\n",
            " [0.46031782 0.53968218]\n",
            " [0.45664255 0.54335745]\n",
            " [0.57425914 0.42574086]\n",
            " [0.46570736 0.53429264]\n",
            " [0.52741487 0.47258513]\n",
            " [0.50356277 0.49643723]\n",
            " [0.81984001 0.18015999]\n",
            " [0.43129686 0.56870314]\n",
            " [0.5100932  0.4899068 ]\n",
            " [0.52353652 0.47646348]\n",
            " [0.50272266 0.49727734]\n",
            " [0.51364428 0.48635572]\n",
            " [0.4141597  0.5858403 ]\n",
            " [0.40284455 0.59715545]\n",
            " [0.5162166  0.4837834 ]\n",
            " [0.43183842 0.56816158]\n",
            " [0.47593608 0.52406392]\n",
            " [0.25185755 0.74814245]\n",
            " [0.24579714 0.75420286]\n",
            " [0.19397033 0.80602967]\n",
            " [0.52331261 0.47668739]\n",
            " [0.2791349  0.7208651 ]\n",
            " [0.3652903  0.6347097 ]\n",
            " [0.15170199 0.84829801]\n",
            " [0.37271813 0.62728187]\n",
            " [0.25695652 0.74304348]\n",
            " [0.32361086 0.67638914]\n",
            " [0.57123094 0.42876906]\n",
            " [0.49112622 0.50887378]\n",
            " [0.84074401 0.15925599]\n",
            " [0.33565183 0.66434817]\n",
            " [0.24813586 0.75186414]\n",
            " [0.73937207 0.26062793]\n",
            " [0.55715554 0.44284446]]\n"
          ],
          "name": "stdout"
        }
      ]
    },
    {
      "cell_type": "code",
      "metadata": {
        "id": "LiTaTvHUhsaI",
        "colab_type": "code",
        "outputId": "ed7ae473-2ff5-4935-8377-35ec27e22cd4",
        "colab": {
          "base_uri": "https://localhost:8080/",
          "height": 126
        }
      },
      "source": [
        "print(\"\\naccuracy score:%f\"%(accuracy_score(y_test,y_pred)*100))\n",
        "print(\"recall score:%f\"%(recall_score(y_test,y_pred)*100))\n",
        "print(\"roc score:%f\"%(roc_auc_score(y_test,y_pred)*100))\n",
        "print(confusion_matrix(y_test,y_pred))"
      ],
      "execution_count": 0,
      "outputs": [
        {
          "output_type": "stream",
          "text": [
            "\n",
            "accuracy score:79.166667\n",
            "recall score:73.333333\n",
            "roc score:81.111111\n",
            "[[ 8  1]\n",
            " [ 4 11]]\n"
          ],
          "name": "stdout"
        }
      ]
    },
    {
      "cell_type": "markdown",
      "metadata": {
        "id": "bGn4ISpdiLHT",
        "colab_type": "text"
      },
      "source": [
        "#### Comparing our results"
      ]
    },
    {
      "cell_type": "code",
      "metadata": {
        "id": "Msy7P0bjh-WR",
        "colab_type": "code",
        "outputId": "f49d317b-3cd9-41a3-9c22-fa3077fc18f6",
        "colab": {
          "base_uri": "https://localhost:8080/",
          "height": 271
        }
      },
      "source": [
        "models = []\n",
        "models.append(('KNN', KNeighborsClassifier()))\n",
        "models.append(('LR', LogisticRegression()))\n",
        "models.append(('SVC', SVC()))\n",
        "models.append(('DT', DecisionTreeClassifier()))\n",
        "models.append(('RF', RandomForestClassifier()))\n",
        "names = []\n",
        "scores = []\n",
        "for name, model in models:\n",
        "    model.fit(x_train, y_train)\n",
        "    y_pred = model.predict(x_test)\n",
        "    scores.append(accuracy_score(y_test, y_pred))\n",
        "    names.append(name)\n",
        "tr_split = pd.DataFrame({'Name': names, 'Score': scores})\n",
        "print(tr_split)"
      ],
      "execution_count": 0,
      "outputs": [
        {
          "output_type": "stream",
          "text": [
            "  Name     Score\n",
            "0  KNN  0.833333\n",
            "1   LR  0.958333\n",
            "2  SVC  0.875000\n",
            "3   DT  0.833333\n",
            "4   RF  0.708333\n"
          ],
          "name": "stdout"
        },
        {
          "output_type": "stream",
          "text": [
            "/usr/local/lib/python3.6/dist-packages/sklearn/linear_model/_logistic.py:940: ConvergenceWarning: lbfgs failed to converge (status=1):\n",
            "STOP: TOTAL NO. of ITERATIONS REACHED LIMIT.\n",
            "\n",
            "Increase the number of iterations (max_iter) or scale the data as shown in:\n",
            "    https://scikit-learn.org/stable/modules/preprocessing.html\n",
            "Please also refer to the documentation for alternative solver options:\n",
            "    https://scikit-learn.org/stable/modules/linear_model.html#logistic-regression\n",
            "  extra_warning_msg=_LOGISTIC_SOLVER_CONVERGENCE_MSG)\n"
          ],
          "name": "stderr"
        }
      ]
    },
    {
      "cell_type": "code",
      "metadata": {
        "id": "WT6ae8doiN-l",
        "colab_type": "code",
        "outputId": "ef7e5ae6-b5ec-4f20-a3a2-5c25dbd3f5e9",
        "colab": {
          "base_uri": "https://localhost:8080/",
          "height": 282
        }
      },
      "source": [
        "axis = sns.barplot(x = 'Name', y = 'Score', data =tr_split )\n",
        "axis.set(xlabel='Classifier', ylabel='Accuracy')\n",
        "for p in axis.patches:\n",
        "    height = p.get_height()\n",
        "    axis.text(p.get_x() + p.get_width()/2, height + 0.01, '{:1.4f}'.format(height), ha=\"center\") \n",
        "    \n",
        "plt.show()"
      ],
      "execution_count": 0,
      "outputs": [
        {
          "output_type": "display_data",
          "data": {
            "image/png": "[encoded data removed]",
            "text/plain": [
              "<Figure size 432x288 with 1 Axes>"
            ]
          },
          "metadata": {
            "tags": []
          }
        }
      ]
    },
    {
      "cell_type": "code",
      "metadata": {
        "id": "w_y30szijT3Q",
        "colab_type": "code",
        "colab": {}
      },
      "source": [
        ""
      ],
      "execution_count": 0,
      "outputs": []
    }
  ]
}